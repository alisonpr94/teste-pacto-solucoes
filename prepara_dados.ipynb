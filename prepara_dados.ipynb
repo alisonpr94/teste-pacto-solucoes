{
 "cells": [
  {
   "cell_type": "markdown",
   "metadata": {},
   "source": [
    "#### Spark"
   ]
  },
  {
   "cell_type": "code",
   "execution_count": 1,
   "metadata": {},
   "outputs": [],
   "source": [
    "from pyspark.sql import SparkSession\n",
    "\n",
    "# Cria uma SparkSession\n",
    "spark = SparkSession.builder.appName(\"AnaliseRH\").getOrCreate()"
   ]
  },
  {
   "cell_type": "markdown",
   "metadata": {},
   "source": [
    "#### Carregando os dados originais"
   ]
  },
  {
   "cell_type": "code",
   "execution_count": 12,
   "metadata": {},
   "outputs": [],
   "source": [
    "# Definir diretórios\n",
    "dados_originais = r\"dados/\"\n",
    "dados_processados = r\"dados_processados/\"\n",
    "\n",
    "# Carregar os datasets\n",
    "df_saude_mental = spark.read.csv(f\"{dados_originais}Impacto_do_Trabalho_Remoto_na_Saude_Mental.csv\", header=True, inferSchema=True)\n",
    "df_bem_estar_feedback = spark.read.csv(f\"{dados_originais}Programas_de BemEstar_e_Feedback_dos_Funcionários.csv\", header=True, inferSchema=True)\n",
    "df_prog_carreira = spark.read.csv(f\"{dados_originais}Progresssao_de_Carreira_do_Funcionário.csv\", header=True, inferSchema=True)"
   ]
  },
  {
   "cell_type": "code",
   "execution_count": 13,
   "metadata": {},
   "outputs": [],
   "source": [
    "# Renomear colunas\n",
    "df_saude_mental = df_saude_mental.withColumnRenamed(\"Employee_ID\", \"ID_Empregado\") \\\n",
    "    .withColumnRenamed(\"Age\", \"Idade\") \\\n",
    "    .withColumnRenamed(\"Gender\", \"Genero\") \\\n",
    "    .withColumnRenamed(\"Job_Role\", \"Cargo\") \\\n",
    "    .withColumnRenamed(\"Industry\", \"Industria\") \\\n",
    "    .withColumnRenamed(\"Years_of_Experience\", \"Anos_Experiencia\") \\\n",
    "    .withColumnRenamed(\"Work_Location\", \"Local_Trabalho\") \\\n",
    "    .withColumnRenamed(\"Hours_Worked_Per_Week\", \"Horas_Trabalhadas_Semana\") \\\n",
    "    .withColumnRenamed(\"Number_of_Virtual_Meetings\", \"Numero_Reunioes_Virtuais\") \\\n",
    "    .withColumnRenamed(\"Work_Life_Balance_Rating\", \"Avaliacao_Equilibrio_Vida\") \\\n",
    "    .withColumnRenamed(\"Stress_Level\", \"Nivel_Estresse\") \\\n",
    "    .withColumnRenamed(\"Mental_Health_Condition\", \"Condicao_Saude_Mental\") \\\n",
    "    .withColumnRenamed(\"Access_to_Mental_Health_Resources\", \"Acesso_Recursos_Saude_Mental\") \\\n",
    "    .withColumnRenamed(\"Productivity_Change\", \"Mudanca_Produtividade\") \\\n",
    "    .withColumnRenamed(\"Social_Isolation_Rating\", \"Avaliacao_Isolamento_Social\") \\\n",
    "    .withColumnRenamed(\"Satisfaction_with_Remote_Work\", \"Satisfacao_Trabalho_Remoto\") \\\n",
    "    .withColumnRenamed(\"Company_Support_for_Remote_Work\", \"Suporte_Empresa_Trabalho_Remoto\") \\\n",
    "    .withColumnRenamed(\"Physical_Activity\", \"Atividade_Fisica\") \\\n",
    "    .withColumnRenamed(\"Sleep_Quality\", \"Qualidade_Sono\") \\\n",
    "    .withColumnRenamed(\"Region\", \"Regiao\")\n",
    "\n",
    "df_bem_estar_feedback = df_bem_estar_feedback.withColumnRenamed(\"Employee_ID\", \"ID_Empregado\") \\\n",
    "    .withColumnRenamed(\"Program_ID\", \"ID_Programa\") \\\n",
    "    .withColumnRenamed(\"Program_Name\", \"Nome_Programa\") \\\n",
    "    .withColumnRenamed(\"Participation_Status\", \"Status_Participacao\") \\\n",
    "    .withColumnRenamed(\"Feedback_Score\", \"Pontuacao_Feedback\") \\\n",
    "    .withColumnRenamed(\"Improvement_Noticed\", \"Melhoria_Observada\")\n",
    "\n",
    "df_prog_carreira = df_prog_carreira.withColumnRenamed(\"Employee_ID\", \"ID_Empregado\") \\\n",
    "    .withColumnRenamed(\"Promotion_Date\", \"Data_Promocao\") \\\n",
    "    .withColumnRenamed(\"Old_Role\", \"Cargo_Anterior\") \\\n",
    "    .withColumnRenamed(\"New_Role\", \"Novo_Cargo\") \\\n",
    "    .withColumnRenamed(\"Salary_Change\", \"Mudanca_Salarial\") \\\n",
    "    .withColumnRenamed(\"Role_Satisfaction\", \"Satisfacao_Cargo\")"
   ]
  },
  {
   "cell_type": "markdown",
   "metadata": {},
   "source": [
    "#### Exibindo informações básicas"
   ]
  },
  {
   "cell_type": "code",
   "execution_count": 14,
   "metadata": {},
   "outputs": [
    {
     "name": "stdout",
     "output_type": "stream",
     "text": [
      "\n",
      "Saude Mental Info:\n",
      "root\n",
      " |-- ID_Empregado: string (nullable = true)\n",
      " |-- Idade: integer (nullable = true)\n",
      " |-- Genero: string (nullable = true)\n",
      " |-- Cargo: string (nullable = true)\n",
      " |-- Industria: string (nullable = true)\n",
      " |-- Anos_Experiencia: integer (nullable = true)\n",
      " |-- Local_Trabalho: string (nullable = true)\n",
      " |-- Horas_Trabalhadas_Semana: integer (nullable = true)\n",
      " |-- Numero_Reunioes_Virtuais: integer (nullable = true)\n",
      " |-- Avaliacao_Equilibrio_Vida: integer (nullable = true)\n",
      " |-- Nivel_Estresse: string (nullable = true)\n",
      " |-- Condicao_Saude_Mental: string (nullable = true)\n",
      " |-- Acesso_Recursos_Saude_Mental: string (nullable = true)\n",
      " |-- Mudanca_Produtividade: string (nullable = true)\n",
      " |-- Avaliacao_Isolamento_Social: integer (nullable = true)\n",
      " |-- Satisfacao_Trabalho_Remoto: string (nullable = true)\n",
      " |-- Suporte_Empresa_Trabalho_Remoto: integer (nullable = true)\n",
      " |-- Atividade_Fisica: string (nullable = true)\n",
      " |-- Qualidade_Sono: string (nullable = true)\n",
      " |-- Regiao: string (nullable = true)\n",
      "\n",
      "+------------+-----+----------+-----------------+----------+----------------+--------------+------------------------+------------------------+-------------------------+--------------+---------------------+----------------------------+---------------------+---------------------------+--------------------------+-------------------------------+----------------+--------------+-------------+\n",
      "|ID_Empregado|Idade|    Genero|            Cargo| Industria|Anos_Experiencia|Local_Trabalho|Horas_Trabalhadas_Semana|Numero_Reunioes_Virtuais|Avaliacao_Equilibrio_Vida|Nivel_Estresse|Condicao_Saude_Mental|Acesso_Recursos_Saude_Mental|Mudanca_Produtividade|Avaliacao_Isolamento_Social|Satisfacao_Trabalho_Remoto|Suporte_Empresa_Trabalho_Remoto|Atividade_Fisica|Qualidade_Sono|       Regiao|\n",
      "+------------+-----+----------+-----------------+----------+----------------+--------------+------------------------+------------------------+-------------------------+--------------+---------------------+----------------------------+---------------------+---------------------------+--------------------------+-------------------------------+----------------+--------------+-------------+\n",
      "|     EMP0001|   32|Non-binary|               HR|Healthcare|              13|        Hybrid|                      47|                       7|                        2|        Medium|           Depression|                          No|             Decrease|                          1|               Unsatisfied|                              1|          Weekly|          Good|       Europe|\n",
      "|     EMP0002|   40|    Female|   Data Scientist|        IT|               3|        Remote|                      52|                       4|                        1|        Medium|              Anxiety|                          No|             Increase|                          3|                 Satisfied|                              2|          Weekly|          Good|         Asia|\n",
      "|     EMP0003|   59|Non-binary|Software Engineer| Education|              22|        Hybrid|                      46|                      11|                        5|        Medium|              Anxiety|                          No|            No Change|                          4|               Unsatisfied|                              5|            None|          Poor|North America|\n",
      "|     EMP0004|   27|      Male|Software Engineer|   Finance|              20|        Onsite|                      32|                       8|                        4|          High|           Depression|                         Yes|             Increase|                          3|               Unsatisfied|                              3|            None|          Poor|       Europe|\n",
      "|     EMP0005|   49|      Male|            Sales|Consulting|              32|        Onsite|                      35|                      12|                        2|          High|                 None|                         Yes|             Decrease|                          3|               Unsatisfied|                              3|          Weekly|       Average|North America|\n",
      "+------------+-----+----------+-----------------+----------+----------------+--------------+------------------------+------------------------+-------------------------+--------------+---------------------+----------------------------+---------------------+---------------------------+--------------------------+-------------------------------+----------------+--------------+-------------+\n",
      "only showing top 5 rows\n",
      "\n",
      "\n",
      "Bem-estar Info:\n",
      "root\n",
      " |-- ID_Empregado: string (nullable = true)\n",
      " |-- ID_Programa: integer (nullable = true)\n",
      " |-- Nome_Programa: string (nullable = true)\n",
      " |-- Status_Participacao: string (nullable = true)\n",
      " |-- Pontuacao_Feedback: integer (nullable = true)\n",
      " |-- Melhoria_Observada: string (nullable = true)\n",
      "\n",
      "+------------+-----------+--------------------+-------------------+------------------+------------------+\n",
      "|ID_Empregado|ID_Programa|       Nome_Programa|Status_Participacao|Pontuacao_Feedback|Melhoria_Observada|\n",
      "+------------+-----------+--------------------+-------------------+------------------+------------------+\n",
      "|     EMP0861|          4|   Fitness Challenge|         Participou|                 5|                No|\n",
      "|     EMP3773|          1|Mindfulness Medit...|         Participou|                 1|                No|\n",
      "|     EMP3093|          2|Work-Life Balance...|         Participou|                 1|               Yes|\n",
      "|     EMP0467|          3| Healthy Eating Plan|         Participou|                 5|               Yes|\n",
      "|     EMP4427|          2|Work-Life Balance...|         Participou|                 1|               Yes|\n",
      "+------------+-----------+--------------------+-------------------+------------------+------------------+\n",
      "only showing top 5 rows\n",
      "\n",
      "\n",
      "Progresso Carreira Info:\n",
      "root\n",
      " |-- ID_Empregado: string (nullable = true)\n",
      " |-- Data_Promocao: date (nullable = true)\n",
      " |-- Cargo_Anterior: string (nullable = true)\n",
      " |-- Novo_Cargo: string (nullable = true)\n",
      " |-- Mudanca_Salarial: integer (nullable = true)\n",
      " |-- Satisfacao_Cargo: integer (nullable = true)\n",
      "\n",
      "+------------+-------------+----------------+----------------+----------------+----------------+\n",
      "|ID_Empregado|Data_Promocao|  Cargo_Anterior|      Novo_Cargo|Mudanca_Salarial|Satisfacao_Cargo|\n",
      "+------------+-------------+----------------+----------------+----------------+----------------+\n",
      "|     EMP1717|   2018-02-28|     Team Leader|Senior Developer|            1157|               5|\n",
      "|     EMP3203|   2023-03-31|Senior Developer|Senior Developer|            4856|               1|\n",
      "|     EMP2858|   2023-02-28|Senior Developer|     Team Leader|            1826|               3|\n",
      "|     EMP0787|   2026-04-30|Senior Developer|     Team Leader|            4465|               5|\n",
      "|     EMP4369|   2019-07-31|Senior Developer|Junior Developer|            2890|               3|\n",
      "+------------+-------------+----------------+----------------+----------------+----------------+\n",
      "only showing top 5 rows\n",
      "\n"
     ]
    }
   ],
   "source": [
    "# Exibir informações básicas\n",
    "def exibir_info(df, nome):\n",
    "    print(f\"\\n{nome} Info:\")\n",
    "    df.printSchema()\n",
    "    df.show(5)\n",
    "\n",
    "dfs = {\"Saude Mental\": df_saude_mental, \"Bem-estar\": df_bem_estar_feedback, \"Progresso Carreira\": df_prog_carreira}\n",
    "for nome, df in dfs.items():\n",
    "    exibir_info(df, nome)"
   ]
  },
  {
   "cell_type": "code",
   "execution_count": 15,
   "metadata": {},
   "outputs": [
    {
     "name": "stdout",
     "output_type": "stream",
     "text": [
      "Saúde Mental (5000, 20)\n",
      "Bem-estar (1000, 6)\n",
      "Progresso de Carreira (500, 6)\n"
     ]
    }
   ],
   "source": [
    "# Exibir contagem de linhas e colunas (linhas, colunas)\n",
    "print(\"Saúde Mental\", (df_saude_mental.count(), len(df_saude_mental.columns)))\n",
    "print(\"Bem-estar\", (df_bem_estar_feedback.count(), len(df_bem_estar_feedback.columns)))\n",
    "print(\"Progresso de Carreira\", (df_prog_carreira.count(), len(df_prog_carreira.columns)))"
   ]
  },
  {
   "cell_type": "markdown",
   "metadata": {},
   "source": [
    "#### Tratando valores ausentes, removendo duplicatas e excluindo colunas irrelevantes."
   ]
  },
  {
   "cell_type": "code",
   "execution_count": 19,
   "metadata": {},
   "outputs": [],
   "source": [
    "from pyspark.sql.functions import col, count, when, mean, unix_timestamp\n",
    "\n",
    "# Tratamento de valores ausentes\n",
    "def tratar_nulos(df):\n",
    "    for col_name in df.columns:\n",
    "        # Pular as colunas ID_Empregado e Data_Promocao\n",
    "        if col_name in [\"ID_Empregado\", \"Data_Promocao\"]:\n",
    "            continue\n",
    "        \n",
    "        # Verificar se a coluna não é do tipo string\n",
    "        if df.schema[col_name].dataType.simpleString() != 'string':\n",
    "            # Se for do tipo DATE, converta para número (dias desde 1970-01-01)\n",
    "            if df.schema[col_name].dataType.simpleString() == 'date':\n",
    "                df = df.withColumn(\n",
    "                    col_name, \n",
    "                    unix_timestamp(col(col_name)).cast(\"double\")\n",
    "                )\n",
    "            # Calcular a média para colunas numéricas\n",
    "            media_valor = df.select(mean(col(col_name))).collect()[0][0]\n",
    "            df = df.fillna({col_name: media_valor})\n",
    "        else:\n",
    "            # Preencher valores nulos com 'Desconhecido' para colunas de texto\n",
    "            df = df.fillna({col_name: 'Desconhecido'})\n",
    "    \n",
    "    return df\n",
    "\n",
    "df_saude_mental = tratar_nulos(df_saude_mental)\n",
    "df_bem_estar_feedback = tratar_nulos(df_bem_estar_feedback)\n",
    "df_prog_carreira = tratar_nulos(df_prog_carreira)"
   ]
  },
  {
   "cell_type": "code",
   "execution_count": 20,
   "metadata": {},
   "outputs": [
    {
     "name": "stdout",
     "output_type": "stream",
     "text": [
      "\n",
      "Saude Mental Info:\n",
      "root\n",
      " |-- ID_Empregado: string (nullable = false)\n",
      " |-- Idade: integer (nullable = true)\n",
      " |-- Genero: string (nullable = false)\n",
      " |-- Cargo: string (nullable = false)\n",
      " |-- Industria: string (nullable = false)\n",
      " |-- Anos_Experiencia: integer (nullable = true)\n",
      " |-- Local_Trabalho: string (nullable = false)\n",
      " |-- Horas_Trabalhadas_Semana: integer (nullable = true)\n",
      " |-- Numero_Reunioes_Virtuais: integer (nullable = true)\n",
      " |-- Avaliacao_Equilibrio_Vida: integer (nullable = true)\n",
      " |-- Nivel_Estresse: string (nullable = false)\n",
      " |-- Condicao_Saude_Mental: string (nullable = false)\n",
      " |-- Acesso_Recursos_Saude_Mental: string (nullable = false)\n",
      " |-- Mudanca_Produtividade: string (nullable = false)\n",
      " |-- Avaliacao_Isolamento_Social: integer (nullable = true)\n",
      " |-- Satisfacao_Trabalho_Remoto: string (nullable = false)\n",
      " |-- Suporte_Empresa_Trabalho_Remoto: integer (nullable = true)\n",
      " |-- Atividade_Fisica: string (nullable = false)\n",
      " |-- Qualidade_Sono: string (nullable = false)\n",
      " |-- Regiao: string (nullable = false)\n",
      "\n",
      "+------------+-----+----------+-----------------+----------+----------------+--------------+------------------------+------------------------+-------------------------+--------------+---------------------+----------------------------+---------------------+---------------------------+--------------------------+-------------------------------+----------------+--------------+-------------+\n",
      "|ID_Empregado|Idade|    Genero|            Cargo| Industria|Anos_Experiencia|Local_Trabalho|Horas_Trabalhadas_Semana|Numero_Reunioes_Virtuais|Avaliacao_Equilibrio_Vida|Nivel_Estresse|Condicao_Saude_Mental|Acesso_Recursos_Saude_Mental|Mudanca_Produtividade|Avaliacao_Isolamento_Social|Satisfacao_Trabalho_Remoto|Suporte_Empresa_Trabalho_Remoto|Atividade_Fisica|Qualidade_Sono|       Regiao|\n",
      "+------------+-----+----------+-----------------+----------+----------------+--------------+------------------------+------------------------+-------------------------+--------------+---------------------+----------------------------+---------------------+---------------------------+--------------------------+-------------------------------+----------------+--------------+-------------+\n",
      "|     EMP0001|   32|Non-binary|               HR|Healthcare|              13|        Hybrid|                      47|                       7|                        2|        Medium|           Depression|                          No|             Decrease|                          1|               Unsatisfied|                              1|          Weekly|          Good|       Europe|\n",
      "|     EMP0002|   40|    Female|   Data Scientist|        IT|               3|        Remote|                      52|                       4|                        1|        Medium|              Anxiety|                          No|             Increase|                          3|                 Satisfied|                              2|          Weekly|          Good|         Asia|\n",
      "|     EMP0003|   59|Non-binary|Software Engineer| Education|              22|        Hybrid|                      46|                      11|                        5|        Medium|              Anxiety|                          No|            No Change|                          4|               Unsatisfied|                              5|            None|          Poor|North America|\n",
      "|     EMP0004|   27|      Male|Software Engineer|   Finance|              20|        Onsite|                      32|                       8|                        4|          High|           Depression|                         Yes|             Increase|                          3|               Unsatisfied|                              3|            None|          Poor|       Europe|\n",
      "|     EMP0005|   49|      Male|            Sales|Consulting|              32|        Onsite|                      35|                      12|                        2|          High|                 None|                         Yes|             Decrease|                          3|               Unsatisfied|                              3|          Weekly|       Average|North America|\n",
      "+------------+-----+----------+-----------------+----------+----------------+--------------+------------------------+------------------------+-------------------------+--------------+---------------------+----------------------------+---------------------+---------------------------+--------------------------+-------------------------------+----------------+--------------+-------------+\n",
      "only showing top 5 rows\n",
      "\n",
      "\n",
      "Bem-estar Info:\n",
      "root\n",
      " |-- ID_Empregado: string (nullable = false)\n",
      " |-- ID_Programa: integer (nullable = true)\n",
      " |-- Nome_Programa: string (nullable = false)\n",
      " |-- Status_Participacao: string (nullable = false)\n",
      " |-- Pontuacao_Feedback: integer (nullable = true)\n",
      " |-- Melhoria_Observada: string (nullable = false)\n",
      "\n",
      "+------------+-----------+--------------------+-------------------+------------------+------------------+\n",
      "|ID_Empregado|ID_Programa|       Nome_Programa|Status_Participacao|Pontuacao_Feedback|Melhoria_Observada|\n",
      "+------------+-----------+--------------------+-------------------+------------------+------------------+\n",
      "|     EMP0861|          4|   Fitness Challenge|         Participou|                 5|                No|\n",
      "|     EMP3773|          1|Mindfulness Medit...|         Participou|                 1|                No|\n",
      "|     EMP3093|          2|Work-Life Balance...|         Participou|                 1|               Yes|\n",
      "|     EMP0467|          3| Healthy Eating Plan|         Participou|                 5|               Yes|\n",
      "|     EMP4427|          2|Work-Life Balance...|         Participou|                 1|               Yes|\n",
      "+------------+-----------+--------------------+-------------------+------------------+------------------+\n",
      "only showing top 5 rows\n",
      "\n",
      "\n",
      "Progresso Carreira Info:\n",
      "root\n",
      " |-- ID_Empregado: string (nullable = true)\n",
      " |-- Data_Promocao: date (nullable = true)\n",
      " |-- Cargo_Anterior: string (nullable = false)\n",
      " |-- Novo_Cargo: string (nullable = false)\n",
      " |-- Mudanca_Salarial: integer (nullable = true)\n",
      " |-- Satisfacao_Cargo: integer (nullable = true)\n",
      "\n",
      "+------------+-------------+----------------+----------------+----------------+----------------+\n",
      "|ID_Empregado|Data_Promocao|  Cargo_Anterior|      Novo_Cargo|Mudanca_Salarial|Satisfacao_Cargo|\n",
      "+------------+-------------+----------------+----------------+----------------+----------------+\n",
      "|     EMP1717|   2018-02-28|     Team Leader|Senior Developer|            1157|               5|\n",
      "|     EMP3203|   2023-03-31|Senior Developer|Senior Developer|            4856|               1|\n",
      "|     EMP2858|   2023-02-28|Senior Developer|     Team Leader|            1826|               3|\n",
      "|     EMP0787|   2026-04-30|Senior Developer|     Team Leader|            4465|               5|\n",
      "|     EMP4369|   2019-07-31|Senior Developer|Junior Developer|            2890|               3|\n",
      "+------------+-------------+----------------+----------------+----------------+----------------+\n",
      "only showing top 5 rows\n",
      "\n"
     ]
    }
   ],
   "source": [
    "dfs = {\"Saude Mental\": df_saude_mental, \"Bem-estar\": df_bem_estar_feedback, \"Progresso Carreira\": df_prog_carreira}\n",
    "for nome, df in dfs.items():\n",
    "    exibir_info(df, nome)"
   ]
  },
  {
   "cell_type": "code",
   "execution_count": null,
   "metadata": {},
   "outputs": [],
   "source": []
  }
 ],
 "metadata": {
  "kernelspec": {
   "display_name": "venv",
   "language": "python",
   "name": "python3"
  },
  "language_info": {
   "codemirror_mode": {
    "name": "ipython",
    "version": 3
   },
   "file_extension": ".py",
   "mimetype": "text/x-python",
   "name": "python",
   "nbconvert_exporter": "python",
   "pygments_lexer": "ipython3",
   "version": "3.12.3"
  }
 },
 "nbformat": 4,
 "nbformat_minor": 2
}
